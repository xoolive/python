{
 "cells": [
  {
   "cell_type": "markdown",
   "id": "proud-portugal",
   "metadata": {},
   "source": [
    "# ipywidgets"
   ]
  },
  {
   "cell_type": "code",
   "execution_count": null,
   "id": "stainless-arlington",
   "metadata": {},
   "outputs": [],
   "source": [
    "import matplotlib.pyplot as plt\n",
    "import numpy as np\n",
    "from ipywidgets import interact\n",
    "\n",
    "def plt_sinus(n, color=\"#008f6b\", linestyle=\"solid\", title=True):\n",
    "    fig, ax = plt.subplots()\n",
    "    x = np.linspace(0, 5, 300)\n",
    "    ax.plot(x, np.sin(n * x), color=color, linestyle=linestyle, linewidth=2)\n",
    "    if title:\n",
    "        ax.set_title(f\"$\\sin({n}·x)$\", fontsize=14, pad=10)\n",
    "        \n",
    "interact(plt_sinus, n=(1, 20), linestyle=[\"solid\", \"dashed\", \"dotted\"])"
   ]
  },
  {
   "cell_type": "markdown",
   "id": "fatty-relevance",
   "metadata": {},
   "source": [
    "# Interactivité des widgets"
   ]
  },
  {
   "cell_type": "code",
   "execution_count": null,
   "id": "placed-enough",
   "metadata": {},
   "outputs": [],
   "source": [
    "import json\n",
    "\n",
    "from pathlib import Path\n",
    "from random import sample\n",
    "from zipfile import ZipFile\n",
    "\n",
    "from ipywidgets import Dropdown, Image, Output\n",
    "\n",
    "f_countries = Path(\"../data/codes.json\")\n",
    "countries = json.loads(f_countries.read_text())\n",
    "\n",
    "dropdown = Dropdown(options=sample(list(countries.values()), 10))\n",
    "output = Output()\n",
    "\n",
    "display(dropdown, output)\n",
    "\n",
    "\n",
    "def affiche_drapeau(info: dict):\n",
    "    key = next(key for (key, value) in countries.items() if value == info[\"new\"])\n",
    "    output.clear_output()\n",
    "\n",
    "    with ZipFile(\"../data/w2560.zip\", \"r\") as zf:\n",
    "        with zf.open(key + \".png\", \"r\") as fh:  # ④\n",
    "            img = Image(value=fh.read(), width=200)\n",
    "            with output:  # ⑤\n",
    "                display(img)\n",
    "\n",
    "\n",
    "dropdown.observe(affiche_drapeau, names=\"value\")  # ③"
   ]
  },
  {
   "cell_type": "code",
   "execution_count": null,
   "id": "promising-dressing",
   "metadata": {},
   "outputs": [],
   "source": []
  }
 ],
 "metadata": {
  "kernelspec": {
   "display_name": "Python 3",
   "language": "python",
   "name": "python3"
  },
  "language_info": {
   "codemirror_mode": {
    "name": "ipython",
    "version": 3
   },
   "file_extension": ".py",
   "mimetype": "text/x-python",
   "name": "python",
   "nbconvert_exporter": "python",
   "pygments_lexer": "ipython3",
   "version": "3.9.2"
  },
  "widgets": {
   "application/vnd.jupyter.widget-state+json": {
    "state": {},
    "version_major": 2,
    "version_minor": 0
   }
  }
 },
 "nbformat": 4,
 "nbformat_minor": 5
}
